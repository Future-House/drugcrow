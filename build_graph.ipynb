{
 "cells": [
  {
   "cell_type": "code",
   "execution_count": 2,
   "metadata": {},
   "outputs": [],
   "source": [
    "#read the file=/Users/samcox/Desktop/drugcrow/schema.txt\n",
    "import json\n",
    "file_path = \"schema.json\"\n",
    "\n",
    "def read_json_file(file_path):\n",
    "    # Read JSON data from a file\n",
    "    with open(file_path, 'r') as file:\n",
    "        data = json.load(file)\n",
    "        return data"
   ]
  },
  {
   "cell_type": "code",
   "execution_count": 3,
   "metadata": {},
   "outputs": [],
   "source": [
    "data = read_json_file(file_path)"
   ]
  },
  {
   "cell_type": "code",
   "execution_count": 4,
   "metadata": {},
   "outputs": [],
   "source": [
    "graph_dict = {}\n",
    "for json_object in data:\n",
    "    table_name = json_object[\"TableName\"]\n",
    "    columns = json_object[\"Columns\"]\n",
    "    column_names = [column[\"ColumnName\"] for column in columns]\n",
    "    comments = [column[\"Comment\"] for column in columns]\n",
    "    table_dict = {}\n",
    "    for e, comment in enumerate(comments):\n",
    "        column_name = column_names[e]\n",
    "        if \"Foreign key to \" in comment:\n",
    "            foreign_relationship = comment.split(\"Foreign key to \")[1].split(\"table\")[0].lower()\n",
    "            if \"the\" in foreign_relationship:\n",
    "                foreign_relationship.split(\"the\")[1].strip()\n",
    "        else:\n",
    "            foreign_relationship=None\n",
    "        table_dict[column_name.lower()] = foreign_relationship\n",
    "    graph_dict[table_name.lower()] = table_dict\n",
    "\n"
   ]
  },
  {
   "cell_type": "code",
   "execution_count": 5,
   "metadata": {},
   "outputs": [
    {
     "data": {
      "text/plain": [
       "{'activity_id': None,\n",
       " 'assay_id': 'the assays ',\n",
       " 'doc_id': 'documents ',\n",
       " 'record_id': 'the compound_records ',\n",
       " 'molregno': 'compounds ',\n",
       " 'standard_relation': None,\n",
       " 'standard_value': None,\n",
       " 'standard_units': None,\n",
       " 'standard_flag': None,\n",
       " 'standard_type': None,\n",
       " 'activity_comment': None,\n",
       " 'data_validity_comment': None,\n",
       " 'potential_duplicate': None,\n",
       " 'pchembl_value': None,\n",
       " 'bao_endpoint': None,\n",
       " 'uo_units': None,\n",
       " 'qudt_units': None,\n",
       " 'toid': None,\n",
       " 'upper_value': None,\n",
       " 'standard_upper_value': None,\n",
       " 'src_id': 'source ',\n",
       " 'type': None,\n",
       " 'relation': None,\n",
       " 'value': None,\n",
       " 'units': None,\n",
       " 'text_value': None,\n",
       " 'standard_text_value': None,\n",
       " 'action_type': 'action_type '}"
      ]
     },
     "execution_count": 5,
     "metadata": {},
     "output_type": "execute_result"
    }
   ],
   "source": [
    "graph_dict[list(graph_dict.keys())[1]]"
   ]
  },
  {
   "cell_type": "code",
   "execution_count": 6,
   "metadata": {},
   "outputs": [
    {
     "data": {
      "text/plain": [
       "True"
      ]
     },
     "execution_count": 6,
     "metadata": {},
     "output_type": "execute_result"
    }
   ],
   "source": [
    "one_table = \"compound_records\"\n",
    "\n",
    "one_table in [key.lower() for key in list(graph_dict.keys())]"
   ]
  },
  {
   "cell_type": "code",
   "execution_count": null,
   "metadata": {},
   "outputs": [],
   "source": []
  }
 ],
 "metadata": {
  "kernelspec": {
   "display_name": "datacrow",
   "language": "python",
   "name": "python3"
  },
  "language_info": {
   "codemirror_mode": {
    "name": "ipython",
    "version": 3
   },
   "file_extension": ".py",
   "mimetype": "text/x-python",
   "name": "python",
   "nbconvert_exporter": "python",
   "pygments_lexer": "ipython3",
   "version": "3.12.3"
  },
  "orig_nbformat": 4
 },
 "nbformat": 4,
 "nbformat_minor": 2
}
